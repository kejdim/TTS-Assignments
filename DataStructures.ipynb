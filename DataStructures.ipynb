{
  "nbformat": 4,
  "nbformat_minor": 0,
  "metadata": {
    "colab": {
      "provenance": [],
      "collapsed_sections": [],
      "authorship_tag": "ABX9TyM5y0oCJvDo7rEt8afdU1k1",
      "include_colab_link": true
    },
    "kernelspec": {
      "name": "python3",
      "display_name": "Python 3"
    },
    "language_info": {
      "name": "python"
    }
  },
  "cells": [
    {
      "cell_type": "markdown",
      "metadata": {
        "id": "view-in-github",
        "colab_type": "text"
      },
      "source": [
        "<a href=\"https://colab.research.google.com/github/kejdim/TTS-Assignments/blob/main/DataStructures.ipynb\" target=\"_parent\"><img src=\"https://colab.research.google.com/assets/colab-badge.svg\" alt=\"Open In Colab\"/></a>"
      ]
    },
    {
      "cell_type": "markdown",
      "source": [
        "Exercise 2\n"
      ],
      "metadata": {
        "id": "tflbPQYxuHxz"
      }
    },
    {
      "cell_type": "markdown",
      "source": [
        "Get a space-separated list of integers from the user, create a tuple of those integers. THen compute and printe result of hash (tuple)."
      ],
      "metadata": {
        "id": "aEamvKDwu35d"
      }
    },
    {
      "cell_type": "code",
      "execution_count": null,
      "metadata": {
        "colab": {
          "base_uri": "https://localhost:8080/"
        },
        "id": "iGLX1V3CsnZm",
        "outputId": "3e930217-1c45-45be-9e54-041d8c9d45c0"
      },
      "outputs": [
        {
          "output_type": "stream",
          "name": "stdout",
          "text": [
            "input integer: 2\n",
            "input integer: 3\n",
            "input integer: 4\n",
            "3789705017596477050\n"
          ]
        }
      ],
      "source": [
        "x1 = int(input(\"input integer: \")) \n",
        "x2 = int(input(\"input integer: \")) \n",
        "x3 = int(input(\"input integer: \")) \n",
        "t = (x1, x2, x3) \n",
        "hash(t)\n",
        "print (hash(t))"
      ]
    },
    {
      "cell_type": "markdown",
      "source": [
        "Exercise 3"
      ],
      "metadata": {
        "id": "iwVi3DgPvK7m"
      }
    },
    {
      "cell_type": "markdown",
      "source": [
        "Take the following two lists. Create a third list by picking a odd-index elements from the first list and even-index elements from the second"
      ],
      "metadata": {
        "id": "GdvZxz-_vco0"
      }
    },
    {
      "cell_type": "code",
      "source": [
        "listOne = [3, 6, 9, 12, 15, 18, 21]\n",
        "listTwo = [4, 8, 12, 16, 20, 24, 28]\n",
        "odd_elements = listOne[1::2] \n",
        "print(\"Element at odd-index positions from list one\") \n",
        "print(odd_elements) \n",
        "even_elements = listTwo[0::2] \n",
        "print(\"Element at even-index positions from list two\") \n",
        "print(even_elements)\n",
        "print (\"listThree\")\n",
        "print (listOne[1::2] + listTwo[0::2])"
      ],
      "metadata": {
        "colab": {
          "base_uri": "https://localhost:8080/"
        },
        "id": "AIz7D7joxGMo",
        "outputId": "c3087731-341e-4507-a736-588a32c8a35b"
      },
      "execution_count": null,
      "outputs": [
        {
          "output_type": "stream",
          "name": "stdout",
          "text": [
            "Element at odd-index positions from list one\n",
            "[6, 12, 18]\n",
            "Element at even-index positions from list two\n",
            "[4, 12, 20, 28]\n",
            "listThree\n",
            "[6, 12, 18, 4, 12, 20, 28]\n"
          ]
        }
      ]
    },
    {
      "cell_type": "markdown",
      "source": [
        "Exercise 4"
      ],
      "metadata": {
        "id": "B-6pi3jm1GMD"
      }
    },
    {
      "cell_type": "markdown",
      "source": [
        "Take the following list. Slice it into three equal chunks and reverse each list."
      ],
      "metadata": {
        "id": "wRk-DMrY1F4w"
      }
    },
    {
      "cell_type": "code",
      "source": [
        "sampleList = [11, 45, 8, 23, 14, 12, 78, 45, 89]\n",
        "part1 = sampleList[2: :-1]\n",
        "part2 = sampleList[5:2:-1]\n",
        "part3 = sampleList[8:5:-1]\n",
        "print(part1)\n",
        "print(part2)\n",
        "print(part3)"
      ],
      "metadata": {
        "colab": {
          "base_uri": "https://localhost:8080/"
        },
        "id": "x1kEdhrI1GjF",
        "outputId": "684426c4-984f-4a87-9986-7df266a8aa44"
      },
      "execution_count": null,
      "outputs": [
        {
          "output_type": "stream",
          "name": "stdout",
          "text": [
            "[8, 45, 11]\n",
            "[12, 14, 23]\n",
            "[89, 45, 78]\n"
          ]
        }
      ]
    },
    {
      "cell_type": "markdown",
      "source": [
        "Exercise 5"
      ],
      "metadata": {
        "id": "jb37uhoV6AAt"
      }
    },
    {
      "cell_type": "markdown",
      "source": [
        "Iterate through a given list and check if a given element already exists in a dictionary as a key’s value. If not, delete it from the list."
      ],
      "metadata": {
        "id": "wdSdYkej5_bE"
      }
    },
    {
      "cell_type": "code",
      "source": [
        "rollNumber = [47, 64, 69, 37, 76, 83, 95, 97]\n",
        "print(\"The original list: \" + str(rollNumber))\n",
        "\n",
        "sampleDict ={'Zach':47, 'Emma':69, 'Kelly':76, 'Jason':97}\n",
        "res = [ele for ele in rollNumber if ele in sampleDict.values()]\n",
        "\n",
        "print(\"Intersection elements : \" + str(res))   \n",
        "    \n",
        "intersect_list = [47, 69, 76, 97]\n",
        "New_rollNumber = intersect_list\n",
        "print (New_rollNumber)"
      ],
      "metadata": {
        "id": "wx9p2Wzr6BIK",
        "colab": {
          "base_uri": "https://localhost:8080/"
        },
        "outputId": "b61e655f-f78f-4bd3-d002-8bde34a50f4d"
      },
      "execution_count": null,
      "outputs": [
        {
          "output_type": "stream",
          "name": "stdout",
          "text": [
            "The original list: [47, 64, 69, 37, 76, 83, 95, 97]\n",
            "Intersection elements : [47, 69, 76, 97]\n",
            "[47, 69, 76, 97]\n"
          ]
        }
      ]
    }
  ]
}