{
  "nbformat": 4,
  "nbformat_minor": 0,
  "metadata": {
    "colab": {
      "provenance": [],
      "authorship_tag": "ABX9TyNTqDPc5gRK+RsWojRDtUGr",
      "include_colab_link": true
    },
    "kernelspec": {
      "name": "python3",
      "display_name": "Python 3"
    },
    "language_info": {
      "name": "python"
    }
  },
  "cells": [
    {
      "cell_type": "markdown",
      "metadata": {
        "id": "view-in-github",
        "colab_type": "text"
      },
      "source": [
        "<a href=\"https://colab.research.google.com/github/kejdim/TTS-Assignments/blob/main/Mod01_Asignment.ipynb\" target=\"_parent\"><img src=\"https://colab.research.google.com/assets/colab-badge.svg\" alt=\"Open In Colab\"/></a>"
      ]
    },
    {
      "cell_type": "markdown",
      "source": [
        "1. Accept the user's first and last name and print them in reverse order with a space between them with the greeting Hello"
      ],
      "metadata": {
        "id": "pN_fqdo32CI_"
      }
    },
    {
      "cell_type": "code",
      "execution_count": null,
      "metadata": {
        "id": "xNWEbewttAwe",
        "colab": {
          "base_uri": "https://localhost:8080/"
        },
        "outputId": "f08df2e4-628d-447e-8a3c-8e2230df35ac"
      },
      "outputs": [
        {
          "output_type": "stream",
          "name": "stdout",
          "text": [
            " Enter first Name: KD\n",
            " Enter last Name: M\n",
            "Hello M, KD\n"
          ]
        }
      ],
      "source": [
        "first = input (\" Enter first Name: \") # input from user for the first name\n",
        "last = input (\" Enter last Name: \") # input from user for the last name\n",
        "full = \"Hello\"+ \" \" + last+ ', '+ first # contcatenation with reverse order\n",
        "print ( full)"
      ]
    },
    {
      "cell_type": "markdown",
      "source": [
        "2. Accept an integer (n) and compute the value of n+nn+nnn"
      ],
      "metadata": {
        "id": "rwhIMB122lzG"
      }
    },
    {
      "cell_type": "code",
      "source": [
        "n= input (\"Enter a number: \") # n defined as user's input\n",
        "nn = n+n\n",
        "nnn = n+n+n\n",
        "sum = int(n)+int(nn)+int(nnn) # concatenation\n",
        "print (sum)"
      ],
      "metadata": {
        "colab": {
          "base_uri": "https://localhost:8080/"
        },
        "id": "_m-o9MSV2lYo",
        "outputId": "13d71243-f326-4cd4-a13d-40f830fc27d2"
      },
      "execution_count": null,
      "outputs": [
        {
          "output_type": "stream",
          "name": "stdout",
          "text": [
            "Enter a number: 4\n",
            "492\n"
          ]
        }
      ]
    },
    {
      "cell_type": "markdown",
      "source": [
        "3. Ask the user \"What country are you from?\" then print the following statement: \"I have heard that [input] is a beautiful country!\""
      ],
      "metadata": {
        "id": "FfgksMk922ff"
      }
    },
    {
      "cell_type": "code",
      "source": [
        "country = input (\"what country are you from?: \")\n",
        "print (\"I have heard that\" +\" \"+ country + \" \" \"is a beautiful country!\")"
      ],
      "metadata": {
        "colab": {
          "base_uri": "https://localhost:8080/"
        },
        "id": "R7OvkoJa26cC",
        "outputId": "28388e62-3aaa-4b9a-a172-3e247250895e"
      },
      "execution_count": null,
      "outputs": [
        {
          "output_type": "stream",
          "name": "stdout",
          "text": [
            "what country are you from?: India\n",
            "I have heard that India is a beautiful country!\n"
          ]
        }
      ]
    },
    {
      "cell_type": "markdown",
      "source": [
        "4. What is the output of the following Python code"
      ],
      "metadata": {
        "id": "zc8vWaj73B9b"
      }
    },
    {
      "cell_type": "code",
      "source": [
        "x = 10\n",
        "y = 50\n",
        "if (x ** 2 > 100 and y < 100):\n",
        "    print(x, y)"
      ],
      "metadata": {
        "id": "qB8TQNzY3OOV"
      },
      "execution_count": null,
      "outputs": []
    },
    {
      "cell_type": "markdown",
      "source": [
        "No output as code did not execute since conditins were not met."
      ],
      "metadata": {
        "id": "oRvL9lxG4ek5"
      }
    },
    {
      "cell_type": "markdown",
      "source": [
        "5. What is the output of the following addition (+) operator, and why does this code chunk execute this way?"
      ],
      "metadata": {
        "id": "IkQHgZsP3afK"
      }
    },
    {
      "cell_type": "code",
      "source": [
        "a = [10, 20]\n",
        "b = a\n",
        "b += [30, 40]\n",
        "print(a)\n",
        "print(b)"
      ],
      "metadata": {
        "colab": {
          "base_uri": "https://localhost:8080/"
        },
        "id": "sZ0c1QS_3jjN",
        "outputId": "73bde68e-9e50-4114-90e8-d84267af0f55"
      },
      "execution_count": null,
      "outputs": [
        {
          "output_type": "stream",
          "name": "stdout",
          "text": [
            "[10, 20, 30, 40]\n",
            "[10, 20, 30, 40]\n"
          ]
        }
      ]
    },
    {
      "cell_type": "markdown",
      "source": [
        "a and b are set to equal therefore changes in b will also reflect on a."
      ],
      "metadata": {
        "id": "TO_K_eDd5wPF"
      }
    },
    {
      "cell_type": "markdown",
      "source": [
        "6. What is the output of the following code and what arithmetic operators is being used here? print(2%6)"
      ],
      "metadata": {
        "id": "9hvKVqGu3Yrh"
      }
    },
    {
      "cell_type": "code",
      "source": [
        "print(2%6)"
      ],
      "metadata": {
        "colab": {
          "base_uri": "https://localhost:8080/"
        },
        "id": "ovWmOuCT3uNc",
        "outputId": "c09d2e27-ec53-4f95-f562-4e8a3e79adfa"
      },
      "execution_count": null,
      "outputs": [
        {
          "output_type": "stream",
          "name": "stdout",
          "text": [
            "2\n"
          ]
        }
      ]
    },
    {
      "cell_type": "markdown",
      "source": [
        "Calculation of modulo, remainder when you devide 2 by 6 in this case, which is 2"
      ],
      "metadata": {
        "id": "3-AjqIRK31pD"
      }
    },
    {
      "cell_type": "markdown",
      "source": [
        "7. What is the output of the following code and what arithmetic operators are used here? print(2 * 3 ** 3 * 4)"
      ],
      "metadata": {
        "id": "YyUjuVEu33EP"
      }
    },
    {
      "cell_type": "code",
      "source": [
        "print(2 * 3 ** 3 * 4)"
      ],
      "metadata": {
        "colab": {
          "base_uri": "https://localhost:8080/"
        },
        "id": "9YTC5g-b386K",
        "outputId": "b052e05b-fed9-42ec-c8e5-949044fb4555"
      },
      "execution_count": null,
      "outputs": [
        {
          "output_type": "stream",
          "name": "stdout",
          "text": [
            "216\n"
          ]
        }
      ]
    },
    {
      "cell_type": "markdown",
      "source": [
        "Arithmetic operations by order in this code: Exponentiation, Multiplication."
      ],
      "metadata": {
        "id": "oVsc9v913_mE"
      }
    },
    {
      "cell_type": "markdown",
      "source": [
        "8. What is a text editor?"
      ],
      "metadata": {
        "id": "18WnEeti4FcR"
      }
    },
    {
      "cell_type": "markdown",
      "source": [
        "A computer program that edits plain text."
      ],
      "metadata": {
        "id": "V_dLm_nd4MK6"
      }
    },
    {
      "cell_type": "markdown",
      "source": [
        "9. What is python?"
      ],
      "metadata": {
        "id": "uw5E-aw_4NAi"
      }
    },
    {
      "cell_type": "markdown",
      "source": [
        "Python is an interpreted, object-oriented, high-level programming language with dynamic semantics."
      ],
      "metadata": {
        "id": "EWCzm_zL4S7w"
      }
    },
    {
      "cell_type": "markdown",
      "source": [
        "10. What is jupyter notebook, what type of python environment is it, and what alternatives are there to jupyter notebook?"
      ],
      "metadata": {
        "id": "y-lJz2ZP4TY8"
      }
    },
    {
      "cell_type": "markdown",
      "source": [
        "The Jupyter Notebook App is a server-client application that allows editing and running notebook documents via a web browser. It is a python virtual environmnet. Some alternatives that offer collaboration include Deepnote, Apache Zeppelin, Spyder, Google Colab. "
      ],
      "metadata": {
        "id": "nS8LmUa54Zs7"
      }
    }
  ]
}