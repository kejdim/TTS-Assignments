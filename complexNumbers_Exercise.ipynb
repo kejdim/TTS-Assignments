{
  "nbformat": 4,
  "nbformat_minor": 0,
  "metadata": {
    "colab": {
      "provenance": [],
      "collapsed_sections": [],
      "authorship_tag": "ABX9TyOxmxz+mAb5YCn8s2PgLds6",
      "include_colab_link": true
    },
    "kernelspec": {
      "name": "python3",
      "display_name": "Python 3"
    },
    "language_info": {
      "name": "python"
    }
  },
  "cells": [
    {
      "cell_type": "markdown",
      "metadata": {
        "id": "view-in-github",
        "colab_type": "text"
      },
      "source": [
        "<a href=\"https://colab.research.google.com/github/kejdim/TTS-Assignments/blob/main/complexNumbers_Exercise.ipynb\" target=\"_parent\"><img src=\"https://colab.research.google.com/assets/colab-badge.svg\" alt=\"Open In Colab\"/></a>"
      ]
    },
    {
      "cell_type": "code",
      "execution_count": null,
      "metadata": {
        "colab": {
          "base_uri": "https://localhost:8080/"
        },
        "id": "83U1CbAYwV1z",
        "outputId": "d9ba9e2a-7a0a-42f1-86b6-67684fc40d66"
      },
      "outputs": [
        {
          "output_type": "stream",
          "name": "stdout",
          "text": [
            "2 1\n",
            "5 6\n",
            "7.00+7.00i\n",
            "-3.00-5.00i\n",
            "4.00+17.00i\n",
            "0.26-0.11i\n",
            "2.24+0.00i\n",
            "7.81+0.00i\n"
          ]
        }
      ],
      "source": [
        "import math\n",
        "\n",
        "class Complex(object):\n",
        "\n",
        "    def __init__(self, real, imaginary):\n",
        "        self.real = real\n",
        "        self.imaginary = imaginary\n",
        "        \n",
        "    def __add__(self, no):\n",
        "        real = self.real + no.real\n",
        "        imaginary = self.imaginary + no.imaginary\n",
        "        return Complex(real,imaginary)\n",
        "        \n",
        "    def __sub__(self, no):\n",
        "        real = self.real - no.real\n",
        "        imaginary = self.imaginary - no.imaginary\n",
        "        return Complex(real,imaginary)\n",
        "        \n",
        "    def __mul__(self, no):\n",
        "        real = self.real * no.real - self.imaginary * no.imaginary\n",
        "        imaginary = self.real * no.imaginary + self.imaginary * no.real\n",
        "        return Complex(real,imaginary)\n",
        "\n",
        "    def __truediv__(self, no):\n",
        "        x = float(no.real ** 2 + no.imaginary ** 2)\n",
        "        y = self * Complex(no.real, -no.imaginary)\n",
        "        real = y.real / x\n",
        "        imaginary = y.imaginary / x\n",
        "        return Complex(real, imaginary)\n",
        "\n",
        "    def mod(self):\n",
        "        real = math.sqrt(self.real ** 2 + self.imaginary ** 2)\n",
        "        return Complex(real, 0)\n",
        "\n",
        "    def __str__(self):\n",
        "        if self.imaginary == 0:\n",
        "            result = \"%.2f+0.00i\" % (self.real)\n",
        "        elif self.real == 0:\n",
        "            if self.imaginary >= 0:\n",
        "                result = \"0.00+%.2fi\" % (self.imaginary)\n",
        "            else:\n",
        "                result = \"0.00-%.2fi\" % (abs(self.imaginary))\n",
        "        elif self.imaginary > 0:\n",
        "            result = \"%.2f+%.2fi\" % (self.real, self.imaginary)\n",
        "        else:\n",
        "            result = \"%.2f-%.2fi\" % (self.real, abs(self.imaginary))\n",
        "        return result\n",
        "\n",
        "if __name__ == '__main__':\n",
        "    c = map(float, input().split())\n",
        "    d = map(float, input().split())\n",
        "    x = Complex(*c)\n",
        "    y = Complex(*d)\n",
        "    print(*map(str, [x+y, x-y, x*y, x/y, x.mod(), y.mod()]), sep='\\n')"
      ]
    }
  ]
}